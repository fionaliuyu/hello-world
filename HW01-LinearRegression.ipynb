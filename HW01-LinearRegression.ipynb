{
 "cells": [
  {
   "cell_type": "markdown",
   "metadata": {},
   "source": [
    "# Homework 1\n",
    "#### Assigned: 2019-02-14\n",
    "#### Due EOD: 2019-02-21\n",
    "\n",
    "Based on Lecture 3\n",
    "+ The student fills in the <...> fields.  \n",
    "+ The student can create as many new cells as necessary in the solution sections."
   ]
  },
  {
   "cell_type": "markdown",
   "metadata": {},
   "source": [
    "*Useful LaTeX macros that save typing (click into cell to see them)*\n",
    "$\\def\\bX{\\boldsymbol{X}}$\n",
    "$\\def\\bx{\\boldsymbol{x}}$\n",
    "$\\def\\by{\\boldsymbol{y}}$\n",
    "$\\def\\bhy{\\boldsymbol{\\hat{y}}}$\n",
    "$\\def\\bid{\\boldsymbol{I}}$"
   ]
  },
  {
   "cell_type": "markdown",
   "metadata": {},
   "source": [
    "#### Name:  <$YuLiu$>\n",
    "#### NetID: <$yl5526$>"
   ]
  },
  {
   "cell_type": "markdown",
   "metadata": {},
   "source": [
    "## Problem 1 (30 points)"
   ]
  },
  {
   "cell_type": "markdown",
   "metadata": {},
   "source": [
    "Given observations $\\bX\\;$ and  $\\by$, and using equation (10) in lecture 3, we see that the fitted values $\\bhy\\,$ are given by\n",
    "$$\n",
    "\\bhy = \\bX \\cdot ( \\bX\\;^T \\cdot \\bX\\;)^{-1} \\cdot \\bX\\;^T  \\cdot \\by\n",
    "$$\n",
    "We define the $n\\times n$ matrix operator\n",
    "$$\n",
    "P := \\bX \\cdot ( \\bX\\;^T \\cdot \\bX\\;)^{-1} \\cdot \\bX\\;^T \\qquad (1)\n",
    "$$\n",
    "and its complement\n",
    "$$\n",
    "M := \\bid - P \\qquad (2)\n",
    "$$\n",
    "with $\\bid\\,$ the $n \\times n$ identity matrix.  \n",
    "The matrix $P$ is an **orthogonal projection** matrix. It projects any vector $\\by\\,$ into $P\\cdot \\by$, which lives in the subspace spanned by the column vectors of $\\bX$.  \n",
    "\n",
    "Show the above statement, by proving the following:  \n",
    "1) $P^2=P$ (projecting twice is the same as projecting once, idempotent matrix)  \n",
    "2) $(P\\cdot\\bx)^T \\cdot (M \\cdot \\by)= 0$ (the projections of $P$ and $M$ are orthogonal vectors for every $\\bx$ and $\\by$)"
   ]
  },
  {
   "cell_type": "markdown",
   "metadata": {},
   "source": [
    "## Solution 1"
   ]
  },
  {
   "cell_type": "markdown",
   "metadata": {},
   "source": [
    "<...>"
   ]
  },
  {
   "cell_type": "markdown",
   "metadata": {},
   "source": [
    "## Problem 2 (70 points)"
   ]
  },
  {
   "cell_type": "markdown",
   "metadata": {},
   "source": [
    "The Capital Asset Pricing Model (CAPM) states that the excess return of every stock above the risk-free return ($r_{stk} - r_{rf}$) is on average proportional to the whole market excess return ($r_{mkt} - r_{rf}$). The proportionality coefficient is called \"beta\" and it is a measure of the riskiness of the stock.  The constant intercept is called \"alpha\" and by CAPM it must be zero. Therefore, we have the linear regression model  \n",
    "$$\n",
    "r_{stk} - r_{rf} = \\alpha + \\beta (r_{mkt} - r_{rf}) + \\epsilon \\qquad (3)\n",
    "$$\n",
    "\n",
    "**Do the following:**  \n",
    "\n",
    "Load the file \"stock-treasury-2004_2006.csv\", to be found in the \"Data\" folder.  \n",
    "For each trading day in the study period the dateset contains:  \n",
    "+ TREAS_3M: the yield of the 3-month treasury note in percent (i.e 2.1 means 2.1%)\n",
    "+ Adjusted close price of ten major stocks: GM, F, UTX, CAT, MRK, PFE, IBM, MSFT, C, XOM\n",
    "+ SP: The S&P 500 equity index level  \n",
    "\n",
    "For each stock and the SP index compute one-day returns as:  $r_t = P_{t+1}/P_t - 1$  \n",
    "For the treasury notes, assume that the 3-month yield is realized over 90 days, so turn it into daily by dividing by 90.  \n",
    "Subtract the treasury daily return from each stock and index return to compute excess returns.  \n",
    "Collect all excess returns in a new data frame and summarize it using the .describe() method.  \n",
    "It is recommended to express all daily returns in basis points (10,000 bps = 100% = 1)\n",
    "\n",
    "Run a linear regression for *each* stock, using its excess return as the y-variable and the SP index excess return as the x-variable.\n",
    "\n",
    "Run the regressions using Scikit-Learn and collect the results for each stock in a data frame like below\n",
    "\n",
    "|sym | alpha | beta | r_squared |  \n",
    "|----|-------|------|-----------|\n",
    "| GM | ...   | ...  | ...       |\n",
    "\n",
    "Run the same regressions using Statsmodels and collect results in a data frame like below\n",
    "\n",
    "|sym | alpha | alpha_se| alpha_pval |beta | beta_se | beta_pval| r_squared |  \n",
    "|----|-------|---------|------------|-----|---------|----------|-----------|\n",
    "| GM | ...   | ...     |  ...       | ... | ...     | ...      | ...       |\n",
    "\n",
    "'alpha_se' is the standard error for the estimated alpha, and 'alpha_pval' is the p-value. Same with beta.  \n",
    "\n",
    "+ Compare the two data frames and assert that they return the same values for alpha and beta.  \n",
    "+ Based on the p-values, can we reject the null hypotheses alpha=0 or beta=0?  \n",
    "+ Is CAPM a good model for explaning daily stock return variance?  \n"
   ]
  },
  {
   "cell_type": "markdown",
   "metadata": {},
   "source": [
    "## Solution 2"
   ]
  },
  {
   "cell_type": "markdown",
   "metadata": {},
   "source": [
    "<...>"
   ]
  }
 ],
 "metadata": {
  "anaconda-cloud": {},
  "kernelspec": {
   "display_name": "Python 3",
   "language": "python",
   "name": "python3"
  },
  "language_info": {
   "codemirror_mode": {
    "name": "ipython",
    "version": 3
   },
   "file_extension": ".py",
   "mimetype": "text/x-python",
   "name": "python",
   "nbconvert_exporter": "python",
   "pygments_lexer": "ipython3",
   "version": "3.7.1"
  }
 },
 "nbformat": 4,
 "nbformat_minor": 2
}
